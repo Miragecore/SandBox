{
  "nbformat": 4,
  "nbformat_minor": 0,
  "metadata": {
    "colab": {
      "name": "PID_Control.ipynb",
      "provenance": [],
      "collapsed_sections": [],
      "authorship_tag": "ABX9TyOmImD/+mgBZ7Byg1ix92l/",
      "include_colab_link": true
    },
    "kernelspec": {
      "name": "python3",
      "display_name": "Python 3"
    },
    "language_info": {
      "name": "python"
    }
  },
  "cells": [
    {
      "cell_type": "markdown",
      "metadata": {
        "id": "view-in-github",
        "colab_type": "text"
      },
      "source": [
        "<a href=\"https://colab.research.google.com/github/Miragecore/SandBox/blob/main/PID_Control.ipynb\" target=\"_parent\"><img src=\"https://colab.research.google.com/assets/colab-badge.svg\" alt=\"Open In Colab\"/></a>"
      ]
    },
    {
      "cell_type": "code",
      "execution_count": 60,
      "metadata": {
        "id": "58MtfT-dx61w"
      },
      "outputs": [],
      "source": [
        "#https://gist.github.com/bradley219/5373998\n",
        "\n",
        "class PID:\n",
        "  def __init__(self, kp_, ki_, kd_, max_, min_, dt_):\n",
        "    self.pre_error = 0\n",
        "    self.integral = 0\n",
        "    self.kp = kp_\n",
        "    self.ki = ki_\n",
        "    self.kd = kd_\n",
        "    self.max = max_\n",
        "    self.min = min_\n",
        "    self.dt = dt_\n",
        "\n",
        "  def Calculate(self, setpoint, pv):\n",
        "    error = setpoint - pv\n",
        "\n",
        "    Pout = self.kp * error;   # 편차에 빠르게 수렴하기 위함\n",
        "    \n",
        "    self.integral = self.integral + error * self.dt\n",
        "\n",
        "    Iout = self.ki * self.integral  #잔류 편차를 따라가기 위함\n",
        "\n",
        "    derivative = (error - self.pre_error) / self.dt\n",
        "\n",
        "    Dout = self.kd * derivative. #에러 변화량에 빠르게 따라가기 위함\n",
        "\n",
        "    output = Pout + Iout + Dout;\n",
        "\n",
        "    if output > self.max :\n",
        "      output = self.max\n",
        "    elif output < self.min :\n",
        "      output = self.min\n",
        "    \n",
        "    self.pre_error = error\n",
        "\n",
        "    return output;"
      ]
    },
    {
      "cell_type": "code",
      "source": [
        "import numpy as np\n",
        "import matplotlib.pyplot as plt"
      ],
      "metadata": {
        "id": "YIBgUGl3z8aT"
      },
      "execution_count": 21,
      "outputs": []
    },
    {
      "cell_type": "code",
      "source": [
        "x = np.linspace ( start = 0.    # lower limit\n",
        "                , stop = 10      # upper limit\n",
        "                , num = 90      # generate 51 points between 0 and 3\n",
        "                )"
      ],
      "metadata": {
        "id": "o1NXBN085A6D"
      },
      "execution_count": 61,
      "outputs": []
    },
    {
      "cell_type": "code",
      "source": [
        "PIDCont = PID(7.5,0.6,0,150,-50,0.1)\n",
        "\n",
        "pv = 0\n",
        "pvs = []\n",
        "\n",
        "for i in np.arange(1,10,0.1):\n",
        "  out = PIDCont.Calculate(100, pv);\n",
        "  pv = pv + out / 5;\n",
        "  pvs.append(pv)\n",
        "  #print(out,pv)"
      ],
      "metadata": {
        "id": "TE5xNTMnzjnS"
      },
      "execution_count": 113,
      "outputs": []
    },
    {
      "cell_type": "code",
      "source": [
        "plt.plot( x\n",
        "        , pvs\n",
        "        , 'r-'  # plot with the color red, as line\n",
        "        )"
      ],
      "metadata": {
        "colab": {
          "base_uri": "https://localhost:8080/",
          "height": 283
        },
        "id": "g4LSo3fp0U8M",
        "outputId": "bd64fe21-efe3-4b75-f605-58254b1f14f0"
      },
      "execution_count": 114,
      "outputs": [
        {
          "output_type": "execute_result",
          "data": {
            "text/plain": [
              "[<matplotlib.lines.Line2D at 0x7f6170eb90d0>]"
            ]
          },
          "metadata": {},
          "execution_count": 114
        },
        {
          "output_type": "display_data",
          "data": {
            "text/plain": [
              "<Figure size 432x288 with 1 Axes>"
            ],
            "image/png": "[encoded data removed]"
          },
          "metadata": {
            "needs_background": "light"
          }
        }
      ]
    },
    {
      "cell_type": "code",
      "source": [
        ""
      ],
      "metadata": {
        "id": "7_4LgApJ6LOQ"
      },
      "execution_count": null,
      "outputs": []
    }
  ]
}