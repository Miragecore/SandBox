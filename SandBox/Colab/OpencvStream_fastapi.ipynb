{
  "nbformat": 4,
  "nbformat_minor": 0,
  "metadata": {
    "colab": {
      "name": "Untitled10.ipynb",
      "provenance": [],
      "authorship_tag": "ABX9TyOWOeAo21WA5zU2mmIcrpS0",
      "include_colab_link": true
    },
    "kernelspec": {
      "name": "python3",
      "display_name": "Python 3"
    },
    "language_info": {
      "name": "python"
    }
  },
  "cells": [
    {
      "cell_type": "markdown",
      "metadata": {
        "id": "view-in-github",
        "colab_type": "text"
      },
      "source": [
        "<a href=\"https://colab.research.google.com/github/Miragecore/SandBox/blob/devel/SandBox/Colab/OpencvStream_fastapi.ipynb\" target=\"_parent\"><img src=\"https://colab.research.google.com/assets/colab-badge.svg\" alt=\"Open In Colab\"/></a>"
      ]
    },
    {
      "cell_type": "markdown",
      "source": [
        "Opencv Video Steam using FastAPI\n",
        "\n",
        "참조 1 Flask, Opencv 스트리밍 서버  \n",
        "https://pyimagesearch.com/2019/09/02/opencv-stream-video-to-web-browser-html-page/\n",
        "\n",
        "참조 2  Flask -> fastAPI  \n",
        "https://testdriven.io/blog/moving-from-flask-to-fastapi/"
      ],
      "metadata": {
        "id": "NxpZdRVgURWZ"
      }
    },
    {
      "cell_type": "code",
      "execution_count": 2,
      "metadata": {
        "colab": {
          "base_uri": "https://localhost:8080/"
        },
        "id": "BiBEJu8DUQ57",
        "outputId": "b21f8e37-2f81-4ecf-d1fe-a7874f794303"
      },
      "outputs": [
        {
          "output_type": "stream",
          "name": "stdout",
          "text": [
            "Mounted at /content/drive\n"
          ]
        }
      ],
      "source": [
        "#스틸컷에 쓸 이미지 로딩을 위한 구글드라이브 마운트\n",
        "from google.colab import drive\n",
        "\n",
        "drive.mount('/content/drive', force_remount=True)\n",
        "\n",
        "\n",
        "from IPython.display import Image, display"
      ]
    },
    {
      "cell_type": "code",
      "source": [
        "import numpy as np\n",
        "import imutils\n",
        "import cv2\n",
        "from imutils.video import VideoStream"
      ],
      "metadata": {
        "id": "phan9eGyU3ey"
      },
      "execution_count": 7,
      "outputs": []
    },
    {
      "cell_type": "code",
      "source": [
        "import os\n",
        "\n",
        "root_path = '/content/drive/MyDrive'\n",
        "paths = ['MLOps_Coursera', 'ML_for_Production', 'Course1', 'Week1']\n",
        "\n",
        "os.chdir(root_path)\n",
        "\n",
        "for folder in paths:\n",
        "  if not os.path.isdir(folder):\n",
        "    os.mkdir(folder)\n",
        "    print('mkdir {folder}')\n",
        "  os.chdir(folder)\n",
        "\n",
        "print(os.getcwd())\n",
        "\n",
        "image_files = [\n",
        "    'apple.jpg',\n",
        "    'clock.jpg',\n",
        "    'oranges.jpg',\n",
        "    'car.jpg'\n",
        "]\n",
        "\n",
        "for image_file in image_files:\n",
        "    print(f\"\\nDisplaying image: {image_file}\")\n",
        "    display(Image(filename=f\"images/{image_file}\"))"
      ],
      "metadata": {
        "id": "6Hlrn32BUtTA"
      },
      "execution_count": null,
      "outputs": []
    },
    {
      "cell_type": "code",
      "source": [
        "!pip install uvicorn\n",
        "!pip install fastapi\n"
      ],
      "metadata": {
        "id": "hE-FR-GcVOhR"
      },
      "execution_count": null,
      "outputs": []
    },
    {
      "cell_type": "code",
      "source": [
        "import io\n",
        "import uvicorn\n",
        "import numpy as np\n",
        "import nest_asyncio\n",
        "from enum import Enum\n",
        "from fastapi import FastAPI, UploadFile, File, HTTPException\n",
        "from fastapi.responses import StreamingResponse\n",
        "from fastapi import Request, Response"
      ],
      "metadata": {
        "id": "rI0ha_s4U5Z9"
      },
      "execution_count": 8,
      "outputs": []
    },
    {
      "cell_type": "code",
      "source": [
        "app = FastAPI(title='Opencv Streaming')\n"
      ],
      "metadata": {
        "id": "b5ApkUXfVKk5"
      },
      "execution_count": null,
      "outputs": []
    }
  ]
}