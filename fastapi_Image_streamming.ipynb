{
  "nbformat": 4,
  "nbformat_minor": 0,
  "metadata": {
    "colab": {
      "name": "Untitled10.ipynb",
      "provenance": [],
      "authorship_tag": "ABX9TyNTs8B8KhZkckBLCUCCFb00",
      "include_colab_link": true
    },
    "kernelspec": {
      "name": "python3",
      "display_name": "Python 3"
    },
    "language_info": {
      "name": "python"
    }
  },
  "cells": [
    {
      "cell_type": "markdown",
      "metadata": {
        "id": "view-in-github",
        "colab_type": "text"
      },
      "source": [
        "<a href=\"https://colab.research.google.com/github/Miragecore/SandBox/blob/devel/fastapi_Image_streamming.ipynb\" target=\"_parent\"><img src=\"https://colab.research.google.com/assets/colab-badge.svg\" alt=\"Open In Colab\"/></a>"
      ]
    },
    {
      "cell_type": "markdown",
      "source": [
        "Opencv Video Steam using FastAPI\n",
        "\n",
        "참조 1 Flask, Opencv 스트리밍 서버  \n",
        "https://pyimagesearch.com/2019/09/02/opencv-stream-video-to-web-browser-html-page/\n",
        "\n",
        "참조 2  Flask -> fastAPI  \n",
        "https://testdriven.io/blog/moving-from-flask-to-fastapi/\n",
        "\n",
        "참조 3 rtsp 스트리밍  \n",
        "https://github.com/mpimentel04/rtsp_fastapi\n",
        "\n",
        "TODO :  \n",
        "- 끝나지 않는 데몬은 어떻게 처리하지?"
      ],
      "metadata": {
        "id": "NxpZdRVgURWZ"
      }
    },
    {
      "cell_type": "code",
      "execution_count": 3,
      "metadata": {
        "colab": {
          "base_uri": "https://localhost:8080/"
        },
        "id": "BiBEJu8DUQ57",
        "outputId": "d2753aec-4c18-4b1e-c221-e773f9341f1b"
      },
      "outputs": [
        {
          "output_type": "stream",
          "name": "stdout",
          "text": [
            "Mounted at /content/drive\n"
          ]
        }
      ],
      "source": [
        "#스틸컷에 쓸 이미지 로딩을 위한 구글드라이브 마운트\n",
        "from google.colab import drive\n",
        "\n",
        "drive.mount('/content/drive', force_remount=True)"
      ]
    },
    {
      "cell_type": "code",
      "source": [
        "import numpy as np\n",
        "import imutils\n",
        "import cv2\n",
        "from imutils.video import VideoStream\n",
        "import threading\n",
        "import time\n",
        "from google.colab.patches import cv2_imshow"
      ],
      "metadata": {
        "id": "phan9eGyU3ey"
      },
      "execution_count": 4,
      "outputs": []
    },
    {
      "cell_type": "code",
      "source": [
        "import os\n",
        "#디렉토리 이동\n",
        "root_path = '/content/drive/MyDrive'\n",
        "paths = ['MLOps_Coursera', 'ML_for_Production', 'Course1', 'Week1','images']\n",
        "\n",
        "os.chdir(root_path)\n",
        "\n",
        "for folder in paths:\n",
        "  if not os.path.isdir(folder):\n",
        "    os.mkdir(folder)\n",
        "    print('mkdir {folder}')\n",
        "  os.chdir(folder)\n",
        "\n",
        "print(os.getcwd())\n",
        "\n",
        "image_files = [\n",
        "    'apple.jpg',\n",
        "    'clock.jpg',\n",
        "    'oranges.jpg',\n",
        "    'car.jpg'\n",
        "]\n",
        "\n",
        "images = [] \n",
        "#스트리밍할 이미지 로딩\n",
        "for image_file in image_files:\n",
        "  timg = cv2.imread(image_file)\n",
        "  timg = imutils.resize(timg, width=400)\n",
        "  images.append(timg)"
      ],
      "metadata": {
        "id": "6Hlrn32BUtTA"
      },
      "execution_count": null,
      "outputs": []
    },
    {
      "cell_type": "code",
      "source": [
        "outputframe = None\n",
        "lock = threading.Lock()\n",
        "vs = VideoStream(src=0).start()\n",
        "\n",
        "def generate_frame():\n",
        "  global outputframe, lock\n",
        "\n",
        "  i = 0;\n",
        "  while True:\n",
        "    #다른 사진으로 프레임 변경\n",
        "    frame = images[i];\n",
        "    i += 1\n",
        "\n",
        "    with lock:\n",
        "      outputframe = frame.copy()\n",
        "    \n",
        "    if i >= len(images):\n",
        "      i = 0\n",
        "    #FPS를 1로\n",
        "    time.sleep(1)\n",
        "    "
      ],
      "metadata": {
        "id": "UgsbKkd6r72t"
      },
      "execution_count": 6,
      "outputs": []
    },
    {
      "cell_type": "code",
      "source": [
        "def generate():\n",
        "  global outputframe, lock\n",
        "\n",
        "  while True:\n",
        "    with lock:\n",
        "      if outputframe is None:\n",
        "        continue\n",
        "\n",
        "      (flag, encodedImage) = cv2.imencode(\".jpg\", outputframe)\n",
        "\n",
        "      if flag is None:\n",
        "        continue\n",
        "\n",
        "    yield(b'--frame\\r\\n' b'Content-Type: image/jpeg\\r\\n\\r\\n' +\n",
        "\t\t\t  bytearray(encodedImage) + b'\\r\\n')"
      ],
      "metadata": {
        "id": "IKqbb6R3traC"
      },
      "execution_count": 7,
      "outputs": []
    },
    {
      "cell_type": "code",
      "source": [
        "!pip install fastapi"
      ],
      "metadata": {
        "id": "hE-FR-GcVOhR"
      },
      "execution_count": null,
      "outputs": []
    },
    {
      "cell_type": "code",
      "source": [
        "from fastapi import FastAPI\n",
        "from fastapi.responses import StreamingResponse, HTMLResponse"
      ],
      "metadata": {
        "id": "rI0ha_s4U5Z9"
      },
      "execution_count": 8,
      "outputs": []
    },
    {
      "cell_type": "code",
      "source": [
        "app = FastAPI(title='Opencv Streaming')\n",
        "\n",
        "@app.get(\"/\",response_class=HTMLResponse)\n",
        "async def home():\n",
        "  return \"\"\"\n",
        "  <html>\n",
        "  <head>\n",
        "    <title>Image Files Streaming</title>\n",
        "  </head>\n",
        "  <body>\n",
        "    <h1>Image File Streaming</h1>\n",
        "    <img src=\"/video_feed\">\n",
        "  </body>\n",
        "</html>\n",
        "\"\"\"\n",
        "\n",
        "@app.get(\"/video_feed\")\n",
        "def video_feed():\n",
        "\t# return the response generated along with the specific media\n",
        "\t# type (media_type)\n",
        "\treturn StreamingResponse(generate(),media_type=\"multipart/x-mixed-replace;boundary=frame\")"
      ],
      "metadata": {
        "id": "b5ApkUXfVKk5"
      },
      "execution_count": 9,
      "outputs": []
    },
    {
      "cell_type": "code",
      "source": [
        "!pip install pyngrok\n",
        "!pip install uvicorn"
      ],
      "metadata": {
        "id": "7FuwcQ77xfjU"
      },
      "execution_count": null,
      "outputs": []
    },
    {
      "cell_type": "code",
      "source": [
        "#ngrok Auth\n",
        "!mkdir -p /drive/ngrok-ssh\n",
        "%cd /drive/ngrok-ssh\n",
        "!wget https://bin.equinox.io/c/4VmDzA7iaHb/ngrok-stable-linux-amd64.zip -O ngrok-stable-linux-amd64.zip\n",
        "!unzip -u ngrok-stable-linux-amd64.zip\n",
        "!cp /drive/ngrok-ssh/ngrok /ngrok\n",
        "!chmod +x /ngrok\n",
        "\n",
        "!/ngrok authtoken \"24hROn7coCpNvy220TtwTSP0aYA_3ZaXPFsPZy4FprkJNwR35\""
      ],
      "metadata": {
        "id": "5ocLWn69zXY7"
      },
      "execution_count": null,
      "outputs": []
    },
    {
      "cell_type": "code",
      "source": [
        "#start frame generate thread\n",
        "t = threading.Thread(target=generate_frame,args=())\n",
        "t.daemon = True\n",
        "t.start()"
      ],
      "metadata": {
        "id": "VTuimAZj1I7p"
      },
      "execution_count": 11,
      "outputs": []
    },
    {
      "cell_type": "code",
      "source": [
        "# Allows the server to be run in this interactive environment\n",
        "#nest_asyncio.apply()\n",
        "\n",
        "# Host depends on the setup you selected (docker or virtual env)\n",
        "#host = \"0.0.0.0\" if os.getenv(\"DOCKER-SETUP\") else \"127.0.0.1\"\n",
        "\n",
        "# Spin up the server!    \n",
        "#uvicorn.run(app, host=host, port=8000)\n",
        "import nest_asyncio\n",
        "from pyngrok import ngrok\n",
        "import uvicorn\n",
        "\n",
        "ngrok_tunnel = ngrok.connect(8000)\n",
        "print('Public URL:', ngrok_tunnel.public_url)\n",
        "nest_asyncio.apply()\n",
        "uvicorn.run(app, port=8000)"
      ],
      "metadata": {
        "colab": {
          "base_uri": "https://localhost:8080/"
        },
        "id": "lteqMRM1xd_F",
        "outputId": "324df244-de90-4ded-9fb9-e7a5dba9e187"
      },
      "execution_count": 12,
      "outputs": [
        {
          "output_type": "stream",
          "name": "stderr",
          "text": [
            "INFO:     Started server process [2291]\n",
            "INFO:     Waiting for application startup.\n",
            "INFO:     Application startup complete.\n",
            "INFO:     Uvicorn running on http://127.0.0.1:8000 (Press CTRL+C to quit)\n"
          ]
        },
        {
          "output_type": "stream",
          "name": "stdout",
          "text": [
            "Public URL: http://33ac-34-125-234-163.ngrok.io\n",
            "INFO:     14.35.26.238:0 - \"GET / HTTP/1.1\" 200 OK\n",
            "INFO:     14.35.26.238:0 - \"GET /video_feed HTTP/1.1\" 200 OK\n",
            "INFO:     14.35.26.238:0 - \"GET /favicon.ico HTTP/1.1\" 404 Not Found\n"
          ]
        },
        {
          "output_type": "stream",
          "name": "stderr",
          "text": [
            "INFO:     Shutting down\n",
            "INFO:     Waiting for application shutdown.\n",
            "INFO:     Application shutdown complete.\n",
            "INFO:     Finished server process [2291]\n"
          ]
        }
      ]
    },
    {
      "cell_type": "code",
      "source": [
        ""
      ],
      "metadata": {
        "id": "FSaTsiJBM6-3"
      },
      "execution_count": null,
      "outputs": []
    }
  ]
}